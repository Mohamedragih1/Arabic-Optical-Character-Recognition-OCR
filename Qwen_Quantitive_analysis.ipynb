{
  "nbformat": 4,
  "nbformat_minor": 0,
  "metadata": {
    "colab": {
      "provenance": [],
      "gpuType": "T4"
    },
    "kernelspec": {
      "name": "python3",
      "display_name": "Python 3"
    },
    "language_info": {
      "name": "python"
    },
    "accelerator": "GPU",
    "widgets": {
      "application/vnd.jupyter.widget-state+json": {
        "a0f09b286a2b4da78bbd703930effff7": {
          "model_module": "@jupyter-widgets/controls",
          "model_name": "HBoxModel",
          "model_module_version": "1.5.0",
          "state": {
            "_dom_classes": [],
            "_model_module": "@jupyter-widgets/controls",
            "_model_module_version": "1.5.0",
            "_model_name": "HBoxModel",
            "_view_count": null,
            "_view_module": "@jupyter-widgets/controls",
            "_view_module_version": "1.5.0",
            "_view_name": "HBoxView",
            "box_style": "",
            "children": [
              "IPY_MODEL_c756d72fa87f44bf8583223e37cc461d",
              "IPY_MODEL_4390517d501c4817a010a42ef71fa4b0",
              "IPY_MODEL_80597dbeb0904c95b8046e3627de7dd1"
            ],
            "layout": "IPY_MODEL_91644128d540418ea5e8e41b17a08db8"
          }
        },
        "c756d72fa87f44bf8583223e37cc461d": {
          "model_module": "@jupyter-widgets/controls",
          "model_name": "HTMLModel",
          "model_module_version": "1.5.0",
          "state": {
            "_dom_classes": [],
            "_model_module": "@jupyter-widgets/controls",
            "_model_module_version": "1.5.0",
            "_model_name": "HTMLModel",
            "_view_count": null,
            "_view_module": "@jupyter-widgets/controls",
            "_view_module_version": "1.5.0",
            "_view_name": "HTMLView",
            "description": "",
            "description_tooltip": null,
            "layout": "IPY_MODEL_15811e9e37d14b2982aeb94e8207141a",
            "placeholder": "​",
            "style": "IPY_MODEL_472a9a4722d24d7d863dd74714e9e55f",
            "value": "model.safetensors: 100%"
          }
        },
        "4390517d501c4817a010a42ef71fa4b0": {
          "model_module": "@jupyter-widgets/controls",
          "model_name": "FloatProgressModel",
          "model_module_version": "1.5.0",
          "state": {
            "_dom_classes": [],
            "_model_module": "@jupyter-widgets/controls",
            "_model_module_version": "1.5.0",
            "_model_name": "FloatProgressModel",
            "_view_count": null,
            "_view_module": "@jupyter-widgets/controls",
            "_view_module_version": "1.5.0",
            "_view_name": "ProgressView",
            "bar_style": "danger",
            "description": "",
            "description_tooltip": null,
            "layout": "IPY_MODEL_6f1b3f207e1741ed8919dbb0a5b5e438",
            "max": 1968265232,
            "min": 0,
            "orientation": "horizontal",
            "style": "IPY_MODEL_bf5daf4c3614461da1d92d6613c5f086",
            "value": 1968265045
          }
        },
        "80597dbeb0904c95b8046e3627de7dd1": {
          "model_module": "@jupyter-widgets/controls",
          "model_name": "HTMLModel",
          "model_module_version": "1.5.0",
          "state": {
            "_dom_classes": [],
            "_model_module": "@jupyter-widgets/controls",
            "_model_module_version": "1.5.0",
            "_model_name": "HTMLModel",
            "_view_count": null,
            "_view_module": "@jupyter-widgets/controls",
            "_view_module_version": "1.5.0",
            "_view_name": "HTMLView",
            "description": "",
            "description_tooltip": null,
            "layout": "IPY_MODEL_5b9cbc139c0b4542a3deb7cdd7f3d476",
            "placeholder": "​",
            "style": "IPY_MODEL_5daa9d7bcfe6485c90c9413f48113ac0",
            "value": " 1.97G/1.97G [00:13&lt;00:00, 411MB/s]"
          }
        },
        "91644128d540418ea5e8e41b17a08db8": {
          "model_module": "@jupyter-widgets/base",
          "model_name": "LayoutModel",
          "model_module_version": "1.2.0",
          "state": {
            "_model_module": "@jupyter-widgets/base",
            "_model_module_version": "1.2.0",
            "_model_name": "LayoutModel",
            "_view_count": null,
            "_view_module": "@jupyter-widgets/base",
            "_view_module_version": "1.2.0",
            "_view_name": "LayoutView",
            "align_content": null,
            "align_items": null,
            "align_self": null,
            "border": null,
            "bottom": null,
            "display": null,
            "flex": null,
            "flex_flow": null,
            "grid_area": null,
            "grid_auto_columns": null,
            "grid_auto_flow": null,
            "grid_auto_rows": null,
            "grid_column": null,
            "grid_gap": null,
            "grid_row": null,
            "grid_template_areas": null,
            "grid_template_columns": null,
            "grid_template_rows": null,
            "height": null,
            "justify_content": null,
            "justify_items": null,
            "left": null,
            "margin": null,
            "max_height": null,
            "max_width": null,
            "min_height": null,
            "min_width": null,
            "object_fit": null,
            "object_position": null,
            "order": null,
            "overflow": null,
            "overflow_x": null,
            "overflow_y": null,
            "padding": null,
            "right": null,
            "top": null,
            "visibility": null,
            "width": null
          }
        },
        "15811e9e37d14b2982aeb94e8207141a": {
          "model_module": "@jupyter-widgets/base",
          "model_name": "LayoutModel",
          "model_module_version": "1.2.0",
          "state": {
            "_model_module": "@jupyter-widgets/base",
            "_model_module_version": "1.2.0",
            "_model_name": "LayoutModel",
            "_view_count": null,
            "_view_module": "@jupyter-widgets/base",
            "_view_module_version": "1.2.0",
            "_view_name": "LayoutView",
            "align_content": null,
            "align_items": null,
            "align_self": null,
            "border": null,
            "bottom": null,
            "display": null,
            "flex": null,
            "flex_flow": null,
            "grid_area": null,
            "grid_auto_columns": null,
            "grid_auto_flow": null,
            "grid_auto_rows": null,
            "grid_column": null,
            "grid_gap": null,
            "grid_row": null,
            "grid_template_areas": null,
            "grid_template_columns": null,
            "grid_template_rows": null,
            "height": null,
            "justify_content": null,
            "justify_items": null,
            "left": null,
            "margin": null,
            "max_height": null,
            "max_width": null,
            "min_height": null,
            "min_width": null,
            "object_fit": null,
            "object_position": null,
            "order": null,
            "overflow": null,
            "overflow_x": null,
            "overflow_y": null,
            "padding": null,
            "right": null,
            "top": null,
            "visibility": null,
            "width": null
          }
        },
        "472a9a4722d24d7d863dd74714e9e55f": {
          "model_module": "@jupyter-widgets/controls",
          "model_name": "DescriptionStyleModel",
          "model_module_version": "1.5.0",
          "state": {
            "_model_module": "@jupyter-widgets/controls",
            "_model_module_version": "1.5.0",
            "_model_name": "DescriptionStyleModel",
            "_view_count": null,
            "_view_module": "@jupyter-widgets/base",
            "_view_module_version": "1.2.0",
            "_view_name": "StyleView",
            "description_width": ""
          }
        },
        "6f1b3f207e1741ed8919dbb0a5b5e438": {
          "model_module": "@jupyter-widgets/base",
          "model_name": "LayoutModel",
          "model_module_version": "1.2.0",
          "state": {
            "_model_module": "@jupyter-widgets/base",
            "_model_module_version": "1.2.0",
            "_model_name": "LayoutModel",
            "_view_count": null,
            "_view_module": "@jupyter-widgets/base",
            "_view_module_version": "1.2.0",
            "_view_name": "LayoutView",
            "align_content": null,
            "align_items": null,
            "align_self": null,
            "border": null,
            "bottom": null,
            "display": null,
            "flex": null,
            "flex_flow": null,
            "grid_area": null,
            "grid_auto_columns": null,
            "grid_auto_flow": null,
            "grid_auto_rows": null,
            "grid_column": null,
            "grid_gap": null,
            "grid_row": null,
            "grid_template_areas": null,
            "grid_template_columns": null,
            "grid_template_rows": null,
            "height": null,
            "justify_content": null,
            "justify_items": null,
            "left": null,
            "margin": null,
            "max_height": null,
            "max_width": null,
            "min_height": null,
            "min_width": null,
            "object_fit": null,
            "object_position": null,
            "order": null,
            "overflow": null,
            "overflow_x": null,
            "overflow_y": null,
            "padding": null,
            "right": null,
            "top": null,
            "visibility": null,
            "width": null
          }
        },
        "bf5daf4c3614461da1d92d6613c5f086": {
          "model_module": "@jupyter-widgets/controls",
          "model_name": "ProgressStyleModel",
          "model_module_version": "1.5.0",
          "state": {
            "_model_module": "@jupyter-widgets/controls",
            "_model_module_version": "1.5.0",
            "_model_name": "ProgressStyleModel",
            "_view_count": null,
            "_view_module": "@jupyter-widgets/base",
            "_view_module_version": "1.2.0",
            "_view_name": "StyleView",
            "bar_color": null,
            "description_width": ""
          }
        },
        "5b9cbc139c0b4542a3deb7cdd7f3d476": {
          "model_module": "@jupyter-widgets/base",
          "model_name": "LayoutModel",
          "model_module_version": "1.2.0",
          "state": {
            "_model_module": "@jupyter-widgets/base",
            "_model_module_version": "1.2.0",
            "_model_name": "LayoutModel",
            "_view_count": null,
            "_view_module": "@jupyter-widgets/base",
            "_view_module_version": "1.2.0",
            "_view_name": "LayoutView",
            "align_content": null,
            "align_items": null,
            "align_self": null,
            "border": null,
            "bottom": null,
            "display": null,
            "flex": null,
            "flex_flow": null,
            "grid_area": null,
            "grid_auto_columns": null,
            "grid_auto_flow": null,
            "grid_auto_rows": null,
            "grid_column": null,
            "grid_gap": null,
            "grid_row": null,
            "grid_template_areas": null,
            "grid_template_columns": null,
            "grid_template_rows": null,
            "height": null,
            "justify_content": null,
            "justify_items": null,
            "left": null,
            "margin": null,
            "max_height": null,
            "max_width": null,
            "min_height": null,
            "min_width": null,
            "object_fit": null,
            "object_position": null,
            "order": null,
            "overflow": null,
            "overflow_x": null,
            "overflow_y": null,
            "padding": null,
            "right": null,
            "top": null,
            "visibility": null,
            "width": null
          }
        },
        "5daa9d7bcfe6485c90c9413f48113ac0": {
          "model_module": "@jupyter-widgets/controls",
          "model_name": "DescriptionStyleModel",
          "model_module_version": "1.5.0",
          "state": {
            "_model_module": "@jupyter-widgets/controls",
            "_model_module_version": "1.5.0",
            "_model_name": "DescriptionStyleModel",
            "_view_count": null,
            "_view_module": "@jupyter-widgets/base",
            "_view_module_version": "1.2.0",
            "_view_name": "StyleView",
            "description_width": ""
          }
        },
        "080f2b026355424b8116c6b6dc784863": {
          "model_module": "@jupyter-widgets/controls",
          "model_name": "HBoxModel",
          "model_module_version": "1.5.0",
          "state": {
            "_dom_classes": [],
            "_model_module": "@jupyter-widgets/controls",
            "_model_module_version": "1.5.0",
            "_model_name": "HBoxModel",
            "_view_count": null,
            "_view_module": "@jupyter-widgets/controls",
            "_view_module_version": "1.5.0",
            "_view_name": "HBoxView",
            "box_style": "",
            "children": [
              "IPY_MODEL_75b403c95a1b411cb7b824a61f589c1c",
              "IPY_MODEL_9baed77e30f1404ead41c51df84c9b6b",
              "IPY_MODEL_48a13520878c4d30a38aeff419cb82f4"
            ],
            "layout": "IPY_MODEL_83ffc547f1f2474dbf5a2c2c807bce98"
          }
        },
        "75b403c95a1b411cb7b824a61f589c1c": {
          "model_module": "@jupyter-widgets/controls",
          "model_name": "HTMLModel",
          "model_module_version": "1.5.0",
          "state": {
            "_dom_classes": [],
            "_model_module": "@jupyter-widgets/controls",
            "_model_module_version": "1.5.0",
            "_model_name": "HTMLModel",
            "_view_count": null,
            "_view_module": "@jupyter-widgets/controls",
            "_view_module_version": "1.5.0",
            "_view_name": "HTMLView",
            "description": "",
            "description_tooltip": null,
            "layout": "IPY_MODEL_8cdaeb17fc76410e88b3e52961dc4743",
            "placeholder": "​",
            "style": "IPY_MODEL_9173868918e0499cb3081956eff5b41a",
            "value": "generation_config.json: 100%"
          }
        },
        "9baed77e30f1404ead41c51df84c9b6b": {
          "model_module": "@jupyter-widgets/controls",
          "model_name": "FloatProgressModel",
          "model_module_version": "1.5.0",
          "state": {
            "_dom_classes": [],
            "_model_module": "@jupyter-widgets/controls",
            "_model_module_version": "1.5.0",
            "_model_name": "FloatProgressModel",
            "_view_count": null,
            "_view_module": "@jupyter-widgets/controls",
            "_view_module_version": "1.5.0",
            "_view_name": "ProgressView",
            "bar_style": "success",
            "description": "",
            "description_tooltip": null,
            "layout": "IPY_MODEL_856caa63947d40089b31c0802802067d",
            "max": 238,
            "min": 0,
            "orientation": "horizontal",
            "style": "IPY_MODEL_f192a4fcd5fa4eaaa97579df3ac51a40",
            "value": 238
          }
        },
        "48a13520878c4d30a38aeff419cb82f4": {
          "model_module": "@jupyter-widgets/controls",
          "model_name": "HTMLModel",
          "model_module_version": "1.5.0",
          "state": {
            "_dom_classes": [],
            "_model_module": "@jupyter-widgets/controls",
            "_model_module_version": "1.5.0",
            "_model_name": "HTMLModel",
            "_view_count": null,
            "_view_module": "@jupyter-widgets/controls",
            "_view_module_version": "1.5.0",
            "_view_name": "HTMLView",
            "description": "",
            "description_tooltip": null,
            "layout": "IPY_MODEL_0732fced79724d73a7f44bd5e0ded0ef",
            "placeholder": "​",
            "style": "IPY_MODEL_b5601f745bfd4ff3b0eeb8cf7c677dde",
            "value": " 238/238 [00:00&lt;00:00, 8.44kB/s]"
          }
        },
        "83ffc547f1f2474dbf5a2c2c807bce98": {
          "model_module": "@jupyter-widgets/base",
          "model_name": "LayoutModel",
          "model_module_version": "1.2.0",
          "state": {
            "_model_module": "@jupyter-widgets/base",
            "_model_module_version": "1.2.0",
            "_model_name": "LayoutModel",
            "_view_count": null,
            "_view_module": "@jupyter-widgets/base",
            "_view_module_version": "1.2.0",
            "_view_name": "LayoutView",
            "align_content": null,
            "align_items": null,
            "align_self": null,
            "border": null,
            "bottom": null,
            "display": null,
            "flex": null,
            "flex_flow": null,
            "grid_area": null,
            "grid_auto_columns": null,
            "grid_auto_flow": null,
            "grid_auto_rows": null,
            "grid_column": null,
            "grid_gap": null,
            "grid_row": null,
            "grid_template_areas": null,
            "grid_template_columns": null,
            "grid_template_rows": null,
            "height": null,
            "justify_content": null,
            "justify_items": null,
            "left": null,
            "margin": null,
            "max_height": null,
            "max_width": null,
            "min_height": null,
            "min_width": null,
            "object_fit": null,
            "object_position": null,
            "order": null,
            "overflow": null,
            "overflow_x": null,
            "overflow_y": null,
            "padding": null,
            "right": null,
            "top": null,
            "visibility": null,
            "width": null
          }
        },
        "8cdaeb17fc76410e88b3e52961dc4743": {
          "model_module": "@jupyter-widgets/base",
          "model_name": "LayoutModel",
          "model_module_version": "1.2.0",
          "state": {
            "_model_module": "@jupyter-widgets/base",
            "_model_module_version": "1.2.0",
            "_model_name": "LayoutModel",
            "_view_count": null,
            "_view_module": "@jupyter-widgets/base",
            "_view_module_version": "1.2.0",
            "_view_name": "LayoutView",
            "align_content": null,
            "align_items": null,
            "align_self": null,
            "border": null,
            "bottom": null,
            "display": null,
            "flex": null,
            "flex_flow": null,
            "grid_area": null,
            "grid_auto_columns": null,
            "grid_auto_flow": null,
            "grid_auto_rows": null,
            "grid_column": null,
            "grid_gap": null,
            "grid_row": null,
            "grid_template_areas": null,
            "grid_template_columns": null,
            "grid_template_rows": null,
            "height": null,
            "justify_content": null,
            "justify_items": null,
            "left": null,
            "margin": null,
            "max_height": null,
            "max_width": null,
            "min_height": null,
            "min_width": null,
            "object_fit": null,
            "object_position": null,
            "order": null,
            "overflow": null,
            "overflow_x": null,
            "overflow_y": null,
            "padding": null,
            "right": null,
            "top": null,
            "visibility": null,
            "width": null
          }
        },
        "9173868918e0499cb3081956eff5b41a": {
          "model_module": "@jupyter-widgets/controls",
          "model_name": "DescriptionStyleModel",
          "model_module_version": "1.5.0",
          "state": {
            "_model_module": "@jupyter-widgets/controls",
            "_model_module_version": "1.5.0",
            "_model_name": "DescriptionStyleModel",
            "_view_count": null,
            "_view_module": "@jupyter-widgets/base",
            "_view_module_version": "1.2.0",
            "_view_name": "StyleView",
            "description_width": ""
          }
        },
        "856caa63947d40089b31c0802802067d": {
          "model_module": "@jupyter-widgets/base",
          "model_name": "LayoutModel",
          "model_module_version": "1.2.0",
          "state": {
            "_model_module": "@jupyter-widgets/base",
            "_model_module_version": "1.2.0",
            "_model_name": "LayoutModel",
            "_view_count": null,
            "_view_module": "@jupyter-widgets/base",
            "_view_module_version": "1.2.0",
            "_view_name": "LayoutView",
            "align_content": null,
            "align_items": null,
            "align_self": null,
            "border": null,
            "bottom": null,
            "display": null,
            "flex": null,
            "flex_flow": null,
            "grid_area": null,
            "grid_auto_columns": null,
            "grid_auto_flow": null,
            "grid_auto_rows": null,
            "grid_column": null,
            "grid_gap": null,
            "grid_row": null,
            "grid_template_areas": null,
            "grid_template_columns": null,
            "grid_template_rows": null,
            "height": null,
            "justify_content": null,
            "justify_items": null,
            "left": null,
            "margin": null,
            "max_height": null,
            "max_width": null,
            "min_height": null,
            "min_width": null,
            "object_fit": null,
            "object_position": null,
            "order": null,
            "overflow": null,
            "overflow_x": null,
            "overflow_y": null,
            "padding": null,
            "right": null,
            "top": null,
            "visibility": null,
            "width": null
          }
        },
        "f192a4fcd5fa4eaaa97579df3ac51a40": {
          "model_module": "@jupyter-widgets/controls",
          "model_name": "ProgressStyleModel",
          "model_module_version": "1.5.0",
          "state": {
            "_model_module": "@jupyter-widgets/controls",
            "_model_module_version": "1.5.0",
            "_model_name": "ProgressStyleModel",
            "_view_count": null,
            "_view_module": "@jupyter-widgets/base",
            "_view_module_version": "1.2.0",
            "_view_name": "StyleView",
            "bar_color": null,
            "description_width": ""
          }
        },
        "0732fced79724d73a7f44bd5e0ded0ef": {
          "model_module": "@jupyter-widgets/base",
          "model_name": "LayoutModel",
          "model_module_version": "1.2.0",
          "state": {
            "_model_module": "@jupyter-widgets/base",
            "_model_module_version": "1.2.0",
            "_model_name": "LayoutModel",
            "_view_count": null,
            "_view_module": "@jupyter-widgets/base",
            "_view_module_version": "1.2.0",
            "_view_name": "LayoutView",
            "align_content": null,
            "align_items": null,
            "align_self": null,
            "border": null,
            "bottom": null,
            "display": null,
            "flex": null,
            "flex_flow": null,
            "grid_area": null,
            "grid_auto_columns": null,
            "grid_auto_flow": null,
            "grid_auto_rows": null,
            "grid_column": null,
            "grid_gap": null,
            "grid_row": null,
            "grid_template_areas": null,
            "grid_template_columns": null,
            "grid_template_rows": null,
            "height": null,
            "justify_content": null,
            "justify_items": null,
            "left": null,
            "margin": null,
            "max_height": null,
            "max_width": null,
            "min_height": null,
            "min_width": null,
            "object_fit": null,
            "object_position": null,
            "order": null,
            "overflow": null,
            "overflow_x": null,
            "overflow_y": null,
            "padding": null,
            "right": null,
            "top": null,
            "visibility": null,
            "width": null
          }
        },
        "b5601f745bfd4ff3b0eeb8cf7c677dde": {
          "model_module": "@jupyter-widgets/controls",
          "model_name": "DescriptionStyleModel",
          "model_module_version": "1.5.0",
          "state": {
            "_model_module": "@jupyter-widgets/controls",
            "_model_module_version": "1.5.0",
            "_model_name": "DescriptionStyleModel",
            "_view_count": null,
            "_view_module": "@jupyter-widgets/base",
            "_view_module_version": "1.2.0",
            "_view_name": "StyleView",
            "description_width": ""
          }
        }
      }
    }
  },
  "cells": [
    {
      "cell_type": "code",
      "source": [
        "%%capture\n",
        "!pip install unsloth\n",
        "# Also get the latest nightly Unsloth!\n",
        "!pip uninstall unsloth -y && pip install --upgrade --no-cache-dir --no-deps git+https://github.com/unslothai/unsloth.git"
      ],
      "metadata": {
        "id": "OVCToIZFjht0"
      },
      "execution_count": 1,
      "outputs": []
    },
    {
      "cell_type": "code",
      "source": [
        "pip install levenshtein"
      ],
      "metadata": {
        "colab": {
          "base_uri": "https://localhost:8080/"
        },
        "id": "BQb6N_iAua5X",
        "outputId": "56be1486-7171-4a08-b056-99e08d36970a"
      },
      "execution_count": 67,
      "outputs": [
        {
          "output_type": "stream",
          "name": "stdout",
          "text": [
            "Collecting levenshtein\n",
            "  Downloading levenshtein-0.26.1-cp310-cp310-manylinux_2_17_x86_64.manylinux2014_x86_64.whl.metadata (3.2 kB)\n",
            "Collecting rapidfuzz<4.0.0,>=3.9.0 (from levenshtein)\n",
            "  Downloading rapidfuzz-3.11.0-cp310-cp310-manylinux_2_17_x86_64.manylinux2014_x86_64.whl.metadata (11 kB)\n",
            "Downloading levenshtein-0.26.1-cp310-cp310-manylinux_2_17_x86_64.manylinux2014_x86_64.whl (162 kB)\n",
            "\u001b[2K   \u001b[90m━━━━━━━━━━━━━━━━━━━━━━━━━━━━━━━━━━━━━━━━\u001b[0m \u001b[32m162.6/162.6 kB\u001b[0m \u001b[31m10.4 MB/s\u001b[0m eta \u001b[36m0:00:00\u001b[0m\n",
            "\u001b[?25hDownloading rapidfuzz-3.11.0-cp310-cp310-manylinux_2_17_x86_64.manylinux2014_x86_64.whl (3.1 MB)\n",
            "\u001b[2K   \u001b[90m━━━━━━━━━━━━━━━━━━━━━━━━━━━━━━━━━━━━━━━━\u001b[0m \u001b[32m3.1/3.1 MB\u001b[0m \u001b[31m45.2 MB/s\u001b[0m eta \u001b[36m0:00:00\u001b[0m\n",
            "\u001b[?25hInstalling collected packages: rapidfuzz, levenshtein\n",
            "Successfully installed levenshtein-0.26.1 rapidfuzz-3.11.0\n"
          ]
        }
      ]
    },
    {
      "cell_type": "code",
      "source": [
        "import re\n",
        "import torch\n",
        "from unsloth import FastVisionModel\n",
        "import Levenshtein as Lev"
      ],
      "metadata": {
        "id": "a1SQX7r16SFk"
      },
      "execution_count": 68,
      "outputs": []
    },
    {
      "cell_type": "code",
      "source": [
        "#Functions for computing word error rate and character error rate\n",
        "def normalize_arabic(text):\n",
        "    text = re.sub(\"[إأآا]\", \"ا\", text)\n",
        "    text = re.sub(\"ى\", \"ي\", text)\n",
        "    text = re.sub(\"ؤ\", \"و\", text)\n",
        "    text = re.sub(\"ئ\", \"ي\", text)\n",
        "    text = re.sub(\"ة\", \"ه\", text)\n",
        "    text = re.sub(r\"[^\\w\\s]\", \"\", text)\n",
        "    text = re.sub(\"<|im_end|>\", \"\", text)\n",
        "    return text\n",
        "\n",
        "def compute_wer_arabic(label, prediction):\n",
        "    # Normalize Arabic text\n",
        "    label = normalize_arabic(label)\n",
        "    prediction = normalize_arabic(prediction)\n",
        "\n",
        "    # Split into words\n",
        "    label_words = label.split()\n",
        "    prediction_words = prediction.split()\n",
        "\n",
        "    # Initialize DP matrix\n",
        "    n = len(label_words)\n",
        "    m = len(prediction_words)\n",
        "    dp = [[0] * (m + 1) for _ in range(n + 1)]\n",
        "\n",
        "    for i in range(1, n + 1):\n",
        "        dp[i][0] = i  # Deletion cost\n",
        "    for j in range(1, m + 1):\n",
        "        dp[0][j] = j  # Insertion cost\n",
        "\n",
        "    for i in range(1, n + 1):\n",
        "        for j in range(1, m + 1):\n",
        "            if label_words[i - 1] == prediction_words[j - 1]:\n",
        "                dp[i][j] = dp[i - 1][j - 1]  # No cost for matching words\n",
        "            else:\n",
        "                dp[i][j] = min(\n",
        "                    dp[i - 1][j - 1] + 1,  # Substitution\n",
        "                    dp[i][j - 1] + 1,      # Insertion\n",
        "                    dp[i - 1][j] + 1       # Deletion\n",
        "                )\n",
        "\n",
        "    # Compute WER\n",
        "    wer = dp[n][m] / n\n",
        "    return wer\n",
        "\n",
        "def compute_cer(label, prediction):\n",
        "\n",
        "    n = len(label)\n",
        "    m = len(prediction)\n",
        "    dp = [[0] * (m + 1) for _ in range(n + 1)]\n",
        "\n",
        "    for i in range(1, n + 1):\n",
        "        dp[i][0] = i  # Deletion cost\n",
        "    for j in range(1, m + 1):\n",
        "        dp[0][j] = j  # Insertion cost\n",
        "\n",
        "\n",
        "    for i in range(1, n + 1):\n",
        "        for j in range(1, m + 1):\n",
        "            if label[i - 1] == prediction[j - 1]:\n",
        "                dp[i][j] = dp[i - 1][j - 1]  # No cost for matching characters\n",
        "            else:\n",
        "                dp[i][j] = min(\n",
        "                    dp[i - 1][j - 1] + 1,  # Substitution\n",
        "                    dp[i][j - 1] + 1,      # Insertion\n",
        "                    dp[i - 1][j] + 1       # Deletion\n",
        "                )\n",
        "\n",
        "    cer = dp[n][m] / n\n",
        "    return cer\n",
        "\n",
        "def calculate_cer(s1, s2):\n",
        "    \"\"\"\n",
        "    Computes the Character Error Rate, defined as the edit distance.\n",
        "\n",
        "    Arguments:\n",
        "        s1 (string): space-separated sentence (actual)\n",
        "        s2 (string): space-separated sentence (predicted)\n",
        "    \"\"\"\n",
        "    s1 = s1.replace(' ', '')\n",
        "    s2 = s2.replace(' ', '')\n",
        "    return Lev.distance(s1, s2)/len(s1)\n",
        "\n",
        "def calculate_wer(s1, s2):\n",
        "    \"\"\"\n",
        "    Computes the Word Error Rate, defined as the edit distance between the\n",
        "    two provided sentences after tokenizing to words.\n",
        "    Arguments:\n",
        "        s1 (string): space-separated sentence\n",
        "        s2 (string): space-separated sentence\n",
        "    \"\"\"\n",
        "\n",
        "    # build mapping of words to integers\n",
        "    b = set(s1.split() + s2.split())\n",
        "    word2char = dict(zip(b, range(len(b))))\n",
        "\n",
        "    # map the words to a char array (Levenshtein packages only accepts\n",
        "    # strings)\n",
        "    w1 = [chr(word2char[w]) for w in s1.split()]\n",
        "    w2 = [chr(word2char[w]) for w in s2.split()]\n",
        "\n",
        "    return Lev.distance(''.join(w1), ''.join(w2)) / len(s1.split())\n",
        "\n",
        "\n",
        "def compute_metrics(label, prediction):\n",
        "    label = normalize_arabic(label)\n",
        "    prediction = normalize_arabic(prediction)\n",
        "    wer = calculate_wer(label, prediction)\n",
        "    cer = calculate_cer(label, prediction)\n",
        "    return {\"wer\": wer, \"cer\": cer}"
      ],
      "metadata": {
        "id": "7nFgZVouwhZo"
      },
      "execution_count": 73,
      "outputs": []
    },
    {
      "cell_type": "code",
      "source": [
        "#Testing the WER AND CER functions\n",
        "label = \"أنا أحب قراءة الكتب العربية كل يوم.\"\n",
        "prediction = \"أنا أحب قراءة الكتب كل يوم.\"\n",
        "\n",
        "print(f\"Word error rate: {compute_wer_arabic(label, prediction)}\")\n",
        "print(f\"Character error rate: {compute_cer(label, prediction)}\")"
      ],
      "metadata": {
        "colab": {
          "base_uri": "https://localhost:8080/"
        },
        "id": "Db1Z44xM2Ux3",
        "outputId": "95d213e4-f407-4885-dac5-f7bbc0969568"
      },
      "execution_count": 70,
      "outputs": [
        {
          "output_type": "stream",
          "name": "stdout",
          "text": [
            "Word error rate: 0.14285714285714285\n",
            "Character error rate: 0.22857142857142856\n"
          ]
        }
      ]
    },
    {
      "cell_type": "code",
      "source": [
        "from google.colab import drive\n",
        "drive.mount('/content/drive')"
      ],
      "metadata": {
        "colab": {
          "base_uri": "https://localhost:8080/"
        },
        "id": "XYoAmkWkjYEo",
        "outputId": "99f54a2d-1b07-40f3-e59e-069510335898"
      },
      "execution_count": 6,
      "outputs": [
        {
          "output_type": "stream",
          "name": "stdout",
          "text": [
            "Mounted at /content/drive\n"
          ]
        }
      ]
    },
    {
      "cell_type": "code",
      "source": [
        "checkpoint_path = \"/content/drive/MyDrive/Qwin V2 2B checkpoints/checkpoint-853\"\n",
        "model, tokenizer = FastVisionModel.from_pretrained(checkpoint_path,\n",
        "                                                   load_in_4bit= True)"
      ],
      "metadata": {
        "colab": {
          "base_uri": "https://localhost:8080/",
          "height": 257,
          "referenced_widgets": [
            "a0f09b286a2b4da78bbd703930effff7",
            "c756d72fa87f44bf8583223e37cc461d",
            "4390517d501c4817a010a42ef71fa4b0",
            "80597dbeb0904c95b8046e3627de7dd1",
            "91644128d540418ea5e8e41b17a08db8",
            "15811e9e37d14b2982aeb94e8207141a",
            "472a9a4722d24d7d863dd74714e9e55f",
            "6f1b3f207e1741ed8919dbb0a5b5e438",
            "bf5daf4c3614461da1d92d6613c5f086",
            "5b9cbc139c0b4542a3deb7cdd7f3d476",
            "5daa9d7bcfe6485c90c9413f48113ac0",
            "080f2b026355424b8116c6b6dc784863",
            "75b403c95a1b411cb7b824a61f589c1c",
            "9baed77e30f1404ead41c51df84c9b6b",
            "48a13520878c4d30a38aeff419cb82f4",
            "83ffc547f1f2474dbf5a2c2c807bce98",
            "8cdaeb17fc76410e88b3e52961dc4743",
            "9173868918e0499cb3081956eff5b41a",
            "856caa63947d40089b31c0802802067d",
            "f192a4fcd5fa4eaaa97579df3ac51a40",
            "0732fced79724d73a7f44bd5e0ded0ef",
            "b5601f745bfd4ff3b0eeb8cf7c677dde"
          ]
        },
        "id": "XHKj9y1NlL9G",
        "outputId": "8770167b-a985-4935-c81d-2db422c93e2f"
      },
      "execution_count": 7,
      "outputs": [
        {
          "output_type": "stream",
          "name": "stdout",
          "text": [
            "==((====))==  Unsloth 2024.12.11: Fast Qwen2_Vl vision patching. Transformers: 4.47.1.\n",
            "   \\\\   /|    GPU: Tesla T4. Max memory: 14.748 GB. Platform: Linux.\n",
            "O^O/ \\_/ \\    Torch: 2.5.1+cu121. CUDA: 7.5. CUDA Toolkit: 12.1. Triton: 3.1.0\n",
            "\\        /    Bfloat16 = FALSE. FA [Xformers = 0.0.29. FA2 = False]\n",
            " \"-____-\"     Free Apache license: http://github.com/unslothai/unsloth\n",
            "Unsloth: Fast downloading is enabled - ignore downloading bars which are red colored!\n"
          ]
        },
        {
          "output_type": "stream",
          "name": "stderr",
          "text": [
            "/usr/local/lib/python3.10/dist-packages/transformers/quantizers/auto.py:186: UserWarning: You passed `quantization_config` or equivalent parameters to `from_pretrained` but the model you're loading already has a `quantization_config` attribute. The `quantization_config` from the model will be used.\n",
            "  warnings.warn(warning_msg)\n"
          ]
        },
        {
          "output_type": "display_data",
          "data": {
            "text/plain": [
              "model.safetensors:   0%|          | 0.00/1.97G [00:00<?, ?B/s]"
            ],
            "application/vnd.jupyter.widget-view+json": {
              "version_major": 2,
              "version_minor": 0,
              "model_id": "a0f09b286a2b4da78bbd703930effff7"
            }
          },
          "metadata": {}
        },
        {
          "output_type": "stream",
          "name": "stderr",
          "text": [
            "`Qwen2VLRotaryEmbedding` can now be fully parameterized by passing the model config through the `config` argument. All other arguments will be removed in v4.46\n"
          ]
        },
        {
          "output_type": "display_data",
          "data": {
            "text/plain": [
              "generation_config.json:   0%|          | 0.00/238 [00:00<?, ?B/s]"
            ],
            "application/vnd.jupyter.widget-view+json": {
              "version_major": 2,
              "version_minor": 0,
              "model_id": "080f2b026355424b8116c6b6dc784863"
            }
          },
          "metadata": {}
        }
      ]
    },
    {
      "cell_type": "code",
      "source": [
        "###Loading the test dataset\n",
        "import zipfile\n",
        "\n",
        "# Specify the path to the zip file\n",
        "zip_file_path = \"/content/drive/MyDrive/OCR/Processed.zip\"\n",
        "extract_to_path = \"/content/Augmented_khatt\"  # Specify where to extract\n",
        "\n",
        "# Open and extract the zip file\n",
        "with zipfile.ZipFile(zip_file_path, 'r') as zip_ref:\n",
        "    zip_ref.extractall(extract_to_path)\n",
        "\n",
        "print(f\"Folder unzipped to {extract_to_path}\")"
      ],
      "metadata": {
        "colab": {
          "base_uri": "https://localhost:8080/"
        },
        "id": "CUlahzH0mDQU",
        "outputId": "5396d288-dbd3-4ba6-f0ad-0ed41c7a3629"
      },
      "execution_count": 9,
      "outputs": [
        {
          "output_type": "stream",
          "name": "stdout",
          "text": [
            "Folder unzipped to /content/Augmented_khatt\n"
          ]
        }
      ]
    },
    {
      "cell_type": "code",
      "source": [
        "#Importing required dependencies, and specifying input/output pathes.\n",
        "import json\n",
        "import numpy as np\n",
        "import cv2\n",
        "from google.colab.patches import cv2_imshow\n",
        "import os\n",
        "import matplotlib.pyplot as plt\n",
        "\n",
        "test_json_path = \"/content/Augmented_khatt/Processed/json_files/test.json\"\n",
        "test_images_folder = \"/content/Augmented_khatt/Processed/test_images\"\n"
      ],
      "metadata": {
        "id": "-NRw1ntimrCz"
      },
      "execution_count": 10,
      "outputs": []
    },
    {
      "cell_type": "code",
      "source": [
        "pip install datasets"
      ],
      "metadata": {
        "colab": {
          "base_uri": "https://localhost:8080/"
        },
        "id": "j_Z1y-Gvm1tW",
        "outputId": "40922646-9e9a-4f63-f117-7a843ea954f7"
      },
      "execution_count": 11,
      "outputs": [
        {
          "output_type": "stream",
          "name": "stdout",
          "text": [
            "Requirement already satisfied: datasets in /usr/local/lib/python3.10/dist-packages (3.2.0)\n",
            "Requirement already satisfied: filelock in /usr/local/lib/python3.10/dist-packages (from datasets) (3.16.1)\n",
            "Requirement already satisfied: numpy>=1.17 in /usr/local/lib/python3.10/dist-packages (from datasets) (1.26.4)\n",
            "Requirement already satisfied: pyarrow>=15.0.0 in /usr/local/lib/python3.10/dist-packages (from datasets) (17.0.0)\n",
            "Requirement already satisfied: dill<0.3.9,>=0.3.0 in /usr/local/lib/python3.10/dist-packages (from datasets) (0.3.8)\n",
            "Requirement already satisfied: pandas in /usr/local/lib/python3.10/dist-packages (from datasets) (2.2.2)\n",
            "Requirement already satisfied: requests>=2.32.2 in /usr/local/lib/python3.10/dist-packages (from datasets) (2.32.3)\n",
            "Requirement already satisfied: tqdm>=4.66.3 in /usr/local/lib/python3.10/dist-packages (from datasets) (4.67.1)\n",
            "Requirement already satisfied: xxhash in /usr/local/lib/python3.10/dist-packages (from datasets) (3.5.0)\n",
            "Requirement already satisfied: multiprocess<0.70.17 in /usr/local/lib/python3.10/dist-packages (from datasets) (0.70.16)\n",
            "Requirement already satisfied: fsspec<=2024.9.0,>=2023.1.0 in /usr/local/lib/python3.10/dist-packages (from fsspec[http]<=2024.9.0,>=2023.1.0->datasets) (2024.9.0)\n",
            "Requirement already satisfied: aiohttp in /usr/local/lib/python3.10/dist-packages (from datasets) (3.11.10)\n",
            "Requirement already satisfied: huggingface-hub>=0.23.0 in /usr/local/lib/python3.10/dist-packages (from datasets) (0.27.0)\n",
            "Requirement already satisfied: packaging in /usr/local/lib/python3.10/dist-packages (from datasets) (24.2)\n",
            "Requirement already satisfied: pyyaml>=5.1 in /usr/local/lib/python3.10/dist-packages (from datasets) (6.0.2)\n",
            "Requirement already satisfied: aiohappyeyeballs>=2.3.0 in /usr/local/lib/python3.10/dist-packages (from aiohttp->datasets) (2.4.4)\n",
            "Requirement already satisfied: aiosignal>=1.1.2 in /usr/local/lib/python3.10/dist-packages (from aiohttp->datasets) (1.3.2)\n",
            "Requirement already satisfied: async-timeout<6.0,>=4.0 in /usr/local/lib/python3.10/dist-packages (from aiohttp->datasets) (4.0.3)\n",
            "Requirement already satisfied: attrs>=17.3.0 in /usr/local/lib/python3.10/dist-packages (from aiohttp->datasets) (24.3.0)\n",
            "Requirement already satisfied: frozenlist>=1.1.1 in /usr/local/lib/python3.10/dist-packages (from aiohttp->datasets) (1.5.0)\n",
            "Requirement already satisfied: multidict<7.0,>=4.5 in /usr/local/lib/python3.10/dist-packages (from aiohttp->datasets) (6.1.0)\n",
            "Requirement already satisfied: propcache>=0.2.0 in /usr/local/lib/python3.10/dist-packages (from aiohttp->datasets) (0.2.1)\n",
            "Requirement already satisfied: yarl<2.0,>=1.17.0 in /usr/local/lib/python3.10/dist-packages (from aiohttp->datasets) (1.18.3)\n",
            "Requirement already satisfied: typing-extensions>=3.7.4.3 in /usr/local/lib/python3.10/dist-packages (from huggingface-hub>=0.23.0->datasets) (4.12.2)\n",
            "Requirement already satisfied: charset-normalizer<4,>=2 in /usr/local/lib/python3.10/dist-packages (from requests>=2.32.2->datasets) (3.4.0)\n",
            "Requirement already satisfied: idna<4,>=2.5 in /usr/local/lib/python3.10/dist-packages (from requests>=2.32.2->datasets) (3.10)\n",
            "Requirement already satisfied: urllib3<3,>=1.21.1 in /usr/local/lib/python3.10/dist-packages (from requests>=2.32.2->datasets) (2.2.3)\n",
            "Requirement already satisfied: certifi>=2017.4.17 in /usr/local/lib/python3.10/dist-packages (from requests>=2.32.2->datasets) (2024.12.14)\n",
            "Requirement already satisfied: python-dateutil>=2.8.2 in /usr/local/lib/python3.10/dist-packages (from pandas->datasets) (2.8.2)\n",
            "Requirement already satisfied: pytz>=2020.1 in /usr/local/lib/python3.10/dist-packages (from pandas->datasets) (2024.2)\n",
            "Requirement already satisfied: tzdata>=2022.7 in /usr/local/lib/python3.10/dist-packages (from pandas->datasets) (2024.2)\n",
            "Requirement already satisfied: six>=1.5 in /usr/local/lib/python3.10/dist-packages (from python-dateutil>=2.8.2->pandas->datasets) (1.17.0)\n"
          ]
        }
      ]
    },
    {
      "cell_type": "code",
      "source": [
        "from datasets import Dataset, DatasetDict, Features, Value, Image\n",
        "#Function for loading train/test data into a dataset object.\n",
        "def create_dataset(json_path, images_path):\n",
        "\n",
        "  examples = []\n",
        "  with open(json_path, 'r') as f:\n",
        "    json_list = json.load(f)\n",
        "\n",
        "  for i in range(0, len(json_list), 1000):\n",
        "    images_file = os.path.join(images_path, json_list[i][\"image_file\"])\n",
        "    images = np.load(images_file)\n",
        "    print(images_file)\n",
        "    ctr = 0\n",
        "    for j in range(i, min(len(images)+i, len(json_list))):\n",
        "      image = images[ctr]\n",
        "      label = json_list[j][\"text\"]\n",
        "      examples.append({\"image\": image, \"text\": label})\n",
        "      ctr += 1\n",
        "\n",
        "  print(len(examples))\n",
        "  img_list = [e[\"image\"] for e in examples]\n",
        "  text_list = [e[\"text\"] for e in examples]\n",
        "  print(img_list[0].shape)\n",
        "  print(type(img_list[0]))\n",
        "  print(len(img_list))\n",
        "\n",
        "  features = Features({\n",
        "      \"image\": Image(),\n",
        "      \"text\": Value(\"string\")\n",
        "  })\n",
        "\n",
        "  return Dataset.from_dict({\"image\": img_list,\n",
        "                              \"text\": text_list},\n",
        "                           features= features)"
      ],
      "metadata": {
        "id": "5sIFbfaCm4-d"
      },
      "execution_count": 12,
      "outputs": []
    },
    {
      "cell_type": "code",
      "source": [
        "test_dataset = create_dataset(test_json_path, test_images_folder)"
      ],
      "metadata": {
        "colab": {
          "base_uri": "https://localhost:8080/"
        },
        "id": "bkK0Kn1um9WT",
        "outputId": "609a5315-348a-4be1-bc1d-d9240adb14b4"
      },
      "execution_count": 13,
      "outputs": [
        {
          "output_type": "stream",
          "name": "stdout",
          "text": [
            "/content/Augmented_khatt/Processed/test_images/test_batch_0.npy\n",
            "/content/Augmented_khatt/Processed/test_images/test_batch_1.npy\n",
            "/content/Augmented_khatt/Processed/test_images/test_batch_2.npy\n",
            "2275\n",
            "(100, 800)\n",
            "<class 'numpy.ndarray'>\n",
            "2275\n"
          ]
        }
      ]
    },
    {
      "cell_type": "code",
      "source": [
        "test_validation_split = test_dataset.train_test_split(test_size= 0.5)\n",
        "test_dataset = test_validation_split['train']\n",
        "validation_dataset = test_validation_split['test']"
      ],
      "metadata": {
        "id": "K9dbD3h0nADZ"
      },
      "execution_count": 14,
      "outputs": []
    },
    {
      "cell_type": "code",
      "source": [
        "test_dataset"
      ],
      "metadata": {
        "colab": {
          "base_uri": "https://localhost:8080/"
        },
        "id": "jzjcVkD6nJky",
        "outputId": "428b97d2-fd47-4ae3-d1e1-8518f06157cb"
      },
      "execution_count": 15,
      "outputs": [
        {
          "output_type": "execute_result",
          "data": {
            "text/plain": [
              "Dataset({\n",
              "    features: ['image', 'text'],\n",
              "    num_rows: 1137\n",
              "})"
            ]
          },
          "metadata": {},
          "execution_count": 15
        }
      ]
    },
    {
      "cell_type": "code",
      "source": [
        "test_dataset[240][\"image\"]"
      ],
      "metadata": {
        "colab": {
          "base_uri": "https://localhost:8080/",
          "height": 117
        },
        "id": "Y5LSZVudnVwu",
        "outputId": "07dacf14-4186-4cd1-f68d-42554978764c"
      },
      "execution_count": 30,
      "outputs": [
        {
          "output_type": "execute_result",
          "data": {
            "text/plain": [
              "<PIL.PngImagePlugin.PngImageFile image mode=L size=800x100>"
            ],
            "image/png": "[encoded data removed]",
            "image/jpeg": "[encoded data removed]"
          },
          "metadata": {},
          "execution_count": 30
        }
      ]
    },
    {
      "cell_type": "code",
      "source": [
        "test_dataset[240][\"text\"]"
      ],
      "metadata": {
        "colab": {
          "base_uri": "https://localhost:8080/",
          "height": 36
        },
        "id": "BCqBgNMmnZAw",
        "outputId": "b87e2a42-f9e5-46c2-e346-3e38de0a4fbf"
      },
      "execution_count": 31,
      "outputs": [
        {
          "output_type": "execute_result",
          "data": {
            "text/plain": [
              "'كفاءة لإنتاج الكهرباء ، و قد لعبت دورا هاما و رئيسيا في تنمية المجتمعات'"
            ],
            "application/vnd.google.colaboratory.intrinsic+json": {
              "type": "string"
            }
          },
          "metadata": {},
          "execution_count": 31
        }
      ]
    },
    {
      "cell_type": "code",
      "source": [
        "instruction = \"Please analyze the provided image and extract the handwritten text content accurately.\"\n",
        "\n",
        "def convert_to_conversation(sample):\n",
        "    conversation = [\n",
        "        { \"role\": \"user\",\n",
        "          \"content\" : [\n",
        "            {\"type\" : \"text\",  \"text\"  : instruction},\n",
        "            {\"type\" : \"image\", \"image\" : sample[\"image\"]} ]\n",
        "        },\n",
        "        { \"role\" : \"assistant\",\n",
        "          \"content\" : [\n",
        "            {\"type\" : \"text\",  \"text\"  : sample[\"text\"]} ]\n",
        "        },\n",
        "    ]\n",
        "    return { \"messages\" : conversation }\n",
        "pass"
      ],
      "metadata": {
        "id": "UbalQhm4nmeU"
      },
      "execution_count": 23,
      "outputs": []
    },
    {
      "cell_type": "code",
      "source": [
        "converted_dataset_test = [convert_to_conversation(sample) for sample in test_dataset]"
      ],
      "metadata": {
        "id": "E0TVlNqQnrj7"
      },
      "execution_count": 26,
      "outputs": []
    },
    {
      "cell_type": "code",
      "source": [
        "converted_dataset_test[2]"
      ],
      "metadata": {
        "colab": {
          "base_uri": "https://localhost:8080/"
        },
        "id": "aa8Ue88jntwt",
        "outputId": "6123c3d7-b10d-4f39-ee91-58ed6425c279"
      },
      "execution_count": 27,
      "outputs": [
        {
          "output_type": "execute_result",
          "data": {
            "text/plain": [
              "{'messages': [{'role': 'user',\n",
              "   'content': [{'type': 'text',\n",
              "     'text': 'Please analyze the provided image and extract the handwritten text content accurately.'},\n",
              "    {'type': 'image',\n",
              "     'image': <PIL.PngImagePlugin.PngImageFile image mode=L size=800x100>}]},\n",
              "  {'role': 'assistant',\n",
              "   'content': [{'type': 'text',\n",
              "     'text': 'التالية لهذا النص: مشمش، دارق، غيظ، ناء ،  بث ، نسر.'}]}]}"
            ]
          },
          "metadata": {},
          "execution_count": 27
        }
      ]
    },
    {
      "cell_type": "code",
      "source": [
        "FastVisionModel.for_inference(model) # Enable for inference!\n",
        "\n",
        "image = test_dataset[240][\"image\"]\n",
        "instruction = \"Please analyze the provided image and extract the handwritten text content accurately.\"\n",
        "\n",
        "messages = [\n",
        "    {\"role\": \"user\", \"content\": [\n",
        "        {\"type\": \"image\"},\n",
        "        {\"type\": \"text\", \"text\": instruction}\n",
        "    ]}\n",
        "]\n",
        "input_text = tokenizer.apply_chat_template(messages, add_generation_prompt = True)\n",
        "inputs = tokenizer(\n",
        "    image,\n",
        "    input_text,\n",
        "    add_special_tokens = False,\n",
        "    return_tensors = \"pt\",\n",
        ").to(\"cuda\")\n",
        "\n",
        "from transformers import TextStreamer\n",
        "text_streamer = TextStreamer(tokenizer, skip_prompt = True)\n",
        "tokens = model.generate(**inputs, streamer = text_streamer, max_new_tokens = 128,\n",
        "                   use_cache = True, temperature = 1.5, min_p = 0.1)"
      ],
      "metadata": {
        "colab": {
          "base_uri": "https://localhost:8080/"
        },
        "id": "4nzbgJCtn5oE",
        "outputId": "9424142e-09e1-4e75-e2ba-8edc143b40ec"
      },
      "execution_count": 42,
      "outputs": [
        {
          "output_type": "stream",
          "name": "stdout",
          "text": [
            "كفاءة الإنتاج الكهربائي ، وقد نجت دورا هاما وربما نجت تقدمه الكثيما  من<|im_end|>\n"
          ]
        }
      ]
    },
    {
      "cell_type": "code",
      "source": [
        "prediction = tokenizer.decode(tokens[0], skip_special_tokens=True).split(\"\\n\")[-1]"
      ],
      "metadata": {
        "id": "TrEGWkJPoA1W"
      },
      "execution_count": 47,
      "outputs": []
    },
    {
      "cell_type": "code",
      "source": [
        "print(prediction)"
      ],
      "metadata": {
        "colab": {
          "base_uri": "https://localhost:8080/"
        },
        "id": "r_l1DvNBo8u4",
        "outputId": "5875d636-4f54-4706-99c7-38142dc1c856"
      },
      "execution_count": 48,
      "outputs": [
        {
          "output_type": "stream",
          "name": "stdout",
          "text": [
            "كفاءة الإنتاج الكهربائي ، وقد نجت دورا هاما وربما نجت تقدمه الكثيما  من\n"
          ]
        }
      ]
    },
    {
      "cell_type": "code",
      "source": [
        "ground_truth = test_dataset[240][\"text\"]\n",
        "print(ground_truth)"
      ],
      "metadata": {
        "colab": {
          "base_uri": "https://localhost:8080/"
        },
        "id": "1mHsg3tMpgtu",
        "outputId": "14c814c4-04cf-4053-d6c0-060d18927950"
      },
      "execution_count": 51,
      "outputs": [
        {
          "output_type": "stream",
          "name": "stdout",
          "text": [
            "كفاءة لإنتاج الكهرباء ، و قد لعبت دورا هاما و رئيسيا في تنمية المجتمعات\n"
          ]
        }
      ]
    },
    {
      "cell_type": "code",
      "source": [
        "metrics = compute_metrics(ground_truth, prediction)\n",
        "print(f\"WER: {metrics['wer']}\")\n",
        "print(f\"CER: {metrics['cer']}\")"
      ],
      "metadata": {
        "colab": {
          "base_uri": "https://localhost:8080/"
        },
        "id": "W70L5EQGpyzf",
        "outputId": "338433d0-2879-4cda-d902-a678d109600b"
      },
      "execution_count": 54,
      "outputs": [
        {
          "output_type": "stream",
          "name": "stdout",
          "text": [
            "WER: 0.7692307692307693\n",
            "CER: 0.38028169014084506\n"
          ]
        }
      ]
    },
    {
      "cell_type": "code",
      "source": [
        "def set_metrics(dataset, instruction):\n",
        "  wer = []\n",
        "  cer = []\n",
        "  for sample in dataset:\n",
        "    image = sample[\"image\"]\n",
        "    ground_truth = sample[\"text\"]\n",
        "    messages = [\n",
        "        {\"role\": \"user\", \"content\": [\n",
        "            {\"type\": \"image\"},\n",
        "            {\"type\": \"text\", \"text\": instruction}\n",
        "        ]}\n",
        "    ]\n",
        "    input_text = tokenizer.apply_chat_template(messages, add_generation_prompt = True)\n",
        "    inputs = tokenizer(\n",
        "    image,\n",
        "    input_text,\n",
        "    add_special_tokens = False,\n",
        "    return_tensors = \"pt\",\n",
        "    ).to(\"cuda\")\n",
        "\n",
        "    text_streamer = TextStreamer(tokenizer, skip_prompt = True)\n",
        "    tokens = model.generate(**inputs, streamer = text_streamer, max_new_tokens = 128,\n",
        "                   use_cache = True, temperature = 1.5, min_p = 0.1)\n",
        "    prediction = tokenizer.decode(tokens[0], skip_special_tokens=True).split(\"\\n\")[-1]\n",
        "    metrics = compute_metrics(ground_truth, prediction)\n",
        "    wer.append(metrics[\"wer\"])\n",
        "    cer.append(metrics[\"cer\"])\n",
        "\n",
        "  avg_wer = sum(wer) / len(wer)\n",
        "  avg_cer = sum(cer) / len(cer)\n",
        "  return avg_wer, avg_cer"
      ],
      "metadata": {
        "id": "XbWHRcA0p9Fr"
      },
      "execution_count": 75,
      "outputs": []
    },
    {
      "cell_type": "code",
      "source": [
        "sample_test = test_dataset.select(range(20))\n",
        "print(sample_test)\n",
        "avg_wer, avg_cer = set_metrics(sample_test, instruction)\n",
        "print(f\"Average WER: {avg_wer}\")\n",
        "print(f\"Average CER: {avg_cer}\")"
      ],
      "metadata": {
        "colab": {
          "base_uri": "https://localhost:8080/"
        },
        "id": "7hwQqpkFrk9E",
        "outputId": "5d703230-1e24-4a12-9987-0289c1bf1a0a"
      },
      "execution_count": 76,
      "outputs": [
        {
          "output_type": "stream",
          "name": "stdout",
          "text": [
            "Dataset({\n",
            "    features: ['image', 'text'],\n",
            "    num_rows: 20\n",
            "})\n",
            "الذرات ، أما في حالة التوازن العادة فسـس # يتكافح<|im_end|>\n",
            "عند وصولنا طفنا وسعينا مع # شيخ. كان جاري في الخيمة يتكلم وهو نائم<|im_end|>\n",
            "التالية لهذا النص: مشمش، دراق، غيظ، ناء ،  بث ، نسر .<|im_end|>\n",
            "تعلم فائدة الكلمات التالية لهذا النص: مشمش، دراق، غيظ، ناء ،  بث ،<|im_end|>\n",
            "ذهب نوح مظفر ضرغام بصحبه رؤوف بن لؤي رايق ظافر عطعوط وهلال خازن عفيف<|im_end|>\n",
            "وذلك مهمه نظوير نوعية التعليم ومستواه في رولهه السبأية . ملاعى تعميقية<|im_end|>\n",
            "جاري في الخيمة يتكلم وهو نائم  بكلمات لا أفهمها مثل انقض بغـلس له الضابط لزمتك.<|im_end|>\n",
            "لزمتك. سألت راجح هل بلغ أصحابنا ظ ع ك ، ث خ ض، ب س ش، ص غ هـ<|im_end|>\n",
            "في هذه الجالية و يكفي لستوى عمل أسماء أي على هيئة أنها ، وكان له<|im_end|>\n",
            "من و لا يلاحظ المبدأ من القبائل العربية : الماربى في الشمال والاسكناف في الشرق<|im_end|>\n",
            "ذهب نوح مظفر ضرغام رؤوف بن لؤي رايق ظافر عطعوط وهلال خازن<|im_end|>\n",
            "طفنا وسعينا مع شيخ. كان جاري في الخيمة يتكلم وهو نائم  بكلمات<|im_end|>\n",
            "التالية لهذا النص: مشمش، دراق، غيظ، ناء ،  بث ، نسر .<|im_end|>\n",
            "بدأت قوافل الحجيج حاج إثر آخر يلبي عند وصولنا طفنا وسعينا مع شيخ. كان جاري في<|im_end|>\n",
            "ذهب نوح مظفر ضرغام بصحبة رؤوف بن لؤي رايق ظافر عطعوط وهلال خازن<|im_end|>\n",
            "الأنذال والانحطاط تلقي بكثبان الأدب، لا بالشعب... إذ إن هال من الأحوال لا يمكن<|im_end|>\n",
            "كان جاري في الخيمه يتكلم وهو نائم  بكلمات لا أفهمها مثل انقض بغـلس له الضابط<|im_end|>\n",
            "وهلال خازن عفيف للحج .  بدأت قوافل الحجيج حاج إثر آخر يلبي .<|im_end|>\n",
            "الخازن<|im_end|>\n",
            "في الحمر الأدبي لجديدة الأدروز، ورواة باللود، هذا الحمر يجد أكثر سعين<|im_end|>\n",
            "Average WER: 0.27855713730713727\n",
            "Average CER: 0.14283884180256934\n"
          ]
        }
      ]
    },
    {
      "cell_type": "code",
      "source": [],
      "metadata": {
        "id": "x-IokH86robL"
      },
      "execution_count": null,
      "outputs": []
    }
  ]
}